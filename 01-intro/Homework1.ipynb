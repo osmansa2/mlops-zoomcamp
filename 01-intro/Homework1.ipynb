{
  "cells": [
    {
      "cell_type": "code",
      "execution_count": 1,
      "id": "b2bd82d7",
      "metadata": {
        "colab": {
          "base_uri": "https://localhost:8080/"
        },
        "id": "b2bd82d7",
        "outputId": "c2491cda-be5d-4ea0-c9e2-3e43c8f90f5b"
      },
      "outputs": [
        {
          "output_type": "stream",
          "name": "stdout",
          "text": [
            "Python 3.7.13\n"
          ]
        }
      ],
      "source": [
        "!python -V"
      ]
    },
    {
      "cell_type": "code",
      "execution_count": 2,
      "id": "41062d8a",
      "metadata": {
        "id": "41062d8a"
      },
      "outputs": [],
      "source": [
        "import pandas as pd"
      ]
    },
    {
      "cell_type": "code",
      "execution_count": 3,
      "id": "c984c564",
      "metadata": {
        "id": "c984c564"
      },
      "outputs": [],
      "source": [
        "import pickle"
      ]
    },
    {
      "cell_type": "code",
      "execution_count": 4,
      "id": "4add538c",
      "metadata": {
        "id": "4add538c"
      },
      "outputs": [],
      "source": [
        "import seaborn as sns\n",
        "import matplotlib.pyplot as plt"
      ]
    },
    {
      "cell_type": "code",
      "execution_count": 5,
      "id": "8b135c2b",
      "metadata": {
        "id": "8b135c2b"
      },
      "outputs": [],
      "source": [
        "from sklearn.feature_extraction import DictVectorizer\n",
        "from sklearn.linear_model import LinearRegression\n",
        "from sklearn.linear_model import Lasso\n",
        "from sklearn.linear_model import Ridge\n",
        "\n",
        "from sklearn.metrics import mean_squared_error"
      ]
    },
    {
      "cell_type": "code",
      "source": [
        "df = pd.read_parquet('fhv_tripdata_2021-01.parquet')\n",
        "\n",
        "print(df.shape)"
      ],
      "metadata": {
        "colab": {
          "base_uri": "https://localhost:8080/"
        },
        "id": "EpObCqXmLSOL",
        "outputId": "f084cc3a-1b7d-4f80-ef42-67dab2bea586"
      },
      "id": "EpObCqXmLSOL",
      "execution_count": 40,
      "outputs": [
        {
          "output_type": "stream",
          "name": "stdout",
          "text": [
            "(1154112, 7)\n"
          ]
        }
      ]
    },
    {
      "cell_type": "code",
      "source": [
        "df['duration'] = df.dropOff_datetime - df.pickup_datetime\n",
        "df.duration = df.duration.apply(lambda td: td.total_seconds() / 60)\n",
        "\n",
        "print(df['duration'].mean())"
      ],
      "metadata": {
        "colab": {
          "base_uri": "https://localhost:8080/"
        },
        "id": "SFX8f6zEMkw_",
        "outputId": "8e674aba-41ca-4e35-ba93-4bcfa21311c2"
      },
      "id": "SFX8f6zEMkw_",
      "execution_count": 41,
      "outputs": [
        {
          "output_type": "stream",
          "name": "stdout",
          "text": [
            "19.1672240937939\n"
          ]
        }
      ]
    },
    {
      "cell_type": "code",
      "source": [
        "previous_records= len(df)\n",
        "df = df[(df.duration >= 1) & (df.duration <= 60)]\n",
        "new_records = len(df)\n",
        "\n",
        "dropped_records_size = previous_records - new_records\n",
        "print(dropped_records_size)"
      ],
      "metadata": {
        "colab": {
          "base_uri": "https://localhost:8080/"
        },
        "id": "GWhg6HgHNgNU",
        "outputId": "eddb2c26-3862-4b5e-dd56-b89c591131d1"
      },
      "id": "GWhg6HgHNgNU",
      "execution_count": 42,
      "outputs": [
        {
          "output_type": "stream",
          "name": "stdout",
          "text": [
            "44286\n"
          ]
        }
      ]
    },
    {
      "cell_type": "code",
      "source": [
        "number_of_nans = df['PUlocationID'].isna().sum()\n",
        "\n",
        "fraction = 100*number_of_nans/len(df)\n",
        "\n",
        "print(fraction)"
      ],
      "metadata": {
        "colab": {
          "base_uri": "https://localhost:8080/"
        },
        "id": "v9On6i4FRm3i",
        "outputId": "775f34ae-f840-41ec-85f3-f90d75492f70"
      },
      "id": "v9On6i4FRm3i",
      "execution_count": 43,
      "outputs": [
        {
          "output_type": "stream",
          "name": "stdout",
          "text": [
            "83.52732770722618\n"
          ]
        }
      ]
    },
    {
      "cell_type": "code",
      "source": [
        "df['DOlocationID'] = df['DOlocationID'].fillna(-1)\n",
        "df['PUlocationID'] = df['PUlocationID'].fillna(-1)"
      ],
      "metadata": {
        "id": "A4_tL9QBQm7W"
      },
      "id": "A4_tL9QBQm7W",
      "execution_count": 44,
      "outputs": []
    },
    {
      "cell_type": "code",
      "source": [
        "df.head()"
      ],
      "metadata": {
        "colab": {
          "base_uri": "https://localhost:8080/",
          "height": 357
        },
        "id": "rNOXqObPVEFz",
        "outputId": "faf4b798-37dc-4b39-d590-2fdd491368fb"
      },
      "id": "rNOXqObPVEFz",
      "execution_count": 55,
      "outputs": [
        {
          "output_type": "execute_result",
          "data": {
            "text/plain": [
              "  dispatching_base_num     pickup_datetime    dropOff_datetime  PUlocationID  \\\n",
              "0               B00009 2021-01-01 00:27:00 2021-01-01 00:44:00          -1.0   \n",
              "1               B00009 2021-01-01 00:50:00 2021-01-01 01:07:00          -1.0   \n",
              "3               B00037 2021-01-01 00:13:09 2021-01-01 00:21:26          -1.0   \n",
              "4               B00037 2021-01-01 00:38:31 2021-01-01 00:53:44          -1.0   \n",
              "5               B00037 2021-01-01 00:59:02 2021-01-01 01:08:05          -1.0   \n",
              "\n",
              "   DOlocationID SR_Flag Affiliated_base_number   duration  \n",
              "0          -1.0    None                 B00009  17.000000  \n",
              "1          -1.0    None                 B00009  17.000000  \n",
              "3          72.0    None                 B00037   8.283333  \n",
              "4          61.0    None                 B00037  15.216667  \n",
              "5          71.0    None                 B00037   9.050000  "
            ],
            "text/html": [
              "\n",
              "  <div id=\"df-ac779fd5-4e0a-47d5-9bb2-c05bd3884131\">\n",
              "    <div class=\"colab-df-container\">\n",
              "      <div>\n",
              "<style scoped>\n",
              "    .dataframe tbody tr th:only-of-type {\n",
              "        vertical-align: middle;\n",
              "    }\n",
              "\n",
              "    .dataframe tbody tr th {\n",
              "        vertical-align: top;\n",
              "    }\n",
              "\n",
              "    .dataframe thead th {\n",
              "        text-align: right;\n",
              "    }\n",
              "</style>\n",
              "<table border=\"1\" class=\"dataframe\">\n",
              "  <thead>\n",
              "    <tr style=\"text-align: right;\">\n",
              "      <th></th>\n",
              "      <th>dispatching_base_num</th>\n",
              "      <th>pickup_datetime</th>\n",
              "      <th>dropOff_datetime</th>\n",
              "      <th>PUlocationID</th>\n",
              "      <th>DOlocationID</th>\n",
              "      <th>SR_Flag</th>\n",
              "      <th>Affiliated_base_number</th>\n",
              "      <th>duration</th>\n",
              "    </tr>\n",
              "  </thead>\n",
              "  <tbody>\n",
              "    <tr>\n",
              "      <th>0</th>\n",
              "      <td>B00009</td>\n",
              "      <td>2021-01-01 00:27:00</td>\n",
              "      <td>2021-01-01 00:44:00</td>\n",
              "      <td>-1.0</td>\n",
              "      <td>-1.0</td>\n",
              "      <td>None</td>\n",
              "      <td>B00009</td>\n",
              "      <td>17.000000</td>\n",
              "    </tr>\n",
              "    <tr>\n",
              "      <th>1</th>\n",
              "      <td>B00009</td>\n",
              "      <td>2021-01-01 00:50:00</td>\n",
              "      <td>2021-01-01 01:07:00</td>\n",
              "      <td>-1.0</td>\n",
              "      <td>-1.0</td>\n",
              "      <td>None</td>\n",
              "      <td>B00009</td>\n",
              "      <td>17.000000</td>\n",
              "    </tr>\n",
              "    <tr>\n",
              "      <th>3</th>\n",
              "      <td>B00037</td>\n",
              "      <td>2021-01-01 00:13:09</td>\n",
              "      <td>2021-01-01 00:21:26</td>\n",
              "      <td>-1.0</td>\n",
              "      <td>72.0</td>\n",
              "      <td>None</td>\n",
              "      <td>B00037</td>\n",
              "      <td>8.283333</td>\n",
              "    </tr>\n",
              "    <tr>\n",
              "      <th>4</th>\n",
              "      <td>B00037</td>\n",
              "      <td>2021-01-01 00:38:31</td>\n",
              "      <td>2021-01-01 00:53:44</td>\n",
              "      <td>-1.0</td>\n",
              "      <td>61.0</td>\n",
              "      <td>None</td>\n",
              "      <td>B00037</td>\n",
              "      <td>15.216667</td>\n",
              "    </tr>\n",
              "    <tr>\n",
              "      <th>5</th>\n",
              "      <td>B00037</td>\n",
              "      <td>2021-01-01 00:59:02</td>\n",
              "      <td>2021-01-01 01:08:05</td>\n",
              "      <td>-1.0</td>\n",
              "      <td>71.0</td>\n",
              "      <td>None</td>\n",
              "      <td>B00037</td>\n",
              "      <td>9.050000</td>\n",
              "    </tr>\n",
              "  </tbody>\n",
              "</table>\n",
              "</div>\n",
              "      <button class=\"colab-df-convert\" onclick=\"convertToInteractive('df-ac779fd5-4e0a-47d5-9bb2-c05bd3884131')\"\n",
              "              title=\"Convert this dataframe to an interactive table.\"\n",
              "              style=\"display:none;\">\n",
              "        \n",
              "  <svg xmlns=\"http://www.w3.org/2000/svg\" height=\"24px\"viewBox=\"0 0 24 24\"\n",
              "       width=\"24px\">\n",
              "    <path d=\"M0 0h24v24H0V0z\" fill=\"none\"/>\n",
              "    <path d=\"M18.56 5.44l.94 2.06.94-2.06 2.06-.94-2.06-.94-.94-2.06-.94 2.06-2.06.94zm-11 1L8.5 8.5l.94-2.06 2.06-.94-2.06-.94L8.5 2.5l-.94 2.06-2.06.94zm10 10l.94 2.06.94-2.06 2.06-.94-2.06-.94-.94-2.06-.94 2.06-2.06.94z\"/><path d=\"M17.41 7.96l-1.37-1.37c-.4-.4-.92-.59-1.43-.59-.52 0-1.04.2-1.43.59L10.3 9.45l-7.72 7.72c-.78.78-.78 2.05 0 2.83L4 21.41c.39.39.9.59 1.41.59.51 0 1.02-.2 1.41-.59l7.78-7.78 2.81-2.81c.8-.78.8-2.07 0-2.86zM5.41 20L4 18.59l7.72-7.72 1.47 1.35L5.41 20z\"/>\n",
              "  </svg>\n",
              "      </button>\n",
              "      \n",
              "  <style>\n",
              "    .colab-df-container {\n",
              "      display:flex;\n",
              "      flex-wrap:wrap;\n",
              "      gap: 12px;\n",
              "    }\n",
              "\n",
              "    .colab-df-convert {\n",
              "      background-color: #E8F0FE;\n",
              "      border: none;\n",
              "      border-radius: 50%;\n",
              "      cursor: pointer;\n",
              "      display: none;\n",
              "      fill: #1967D2;\n",
              "      height: 32px;\n",
              "      padding: 0 0 0 0;\n",
              "      width: 32px;\n",
              "    }\n",
              "\n",
              "    .colab-df-convert:hover {\n",
              "      background-color: #E2EBFA;\n",
              "      box-shadow: 0px 1px 2px rgba(60, 64, 67, 0.3), 0px 1px 3px 1px rgba(60, 64, 67, 0.15);\n",
              "      fill: #174EA6;\n",
              "    }\n",
              "\n",
              "    [theme=dark] .colab-df-convert {\n",
              "      background-color: #3B4455;\n",
              "      fill: #D2E3FC;\n",
              "    }\n",
              "\n",
              "    [theme=dark] .colab-df-convert:hover {\n",
              "      background-color: #434B5C;\n",
              "      box-shadow: 0px 1px 3px 1px rgba(0, 0, 0, 0.15);\n",
              "      filter: drop-shadow(0px 1px 2px rgba(0, 0, 0, 0.3));\n",
              "      fill: #FFFFFF;\n",
              "    }\n",
              "  </style>\n",
              "\n",
              "      <script>\n",
              "        const buttonEl =\n",
              "          document.querySelector('#df-ac779fd5-4e0a-47d5-9bb2-c05bd3884131 button.colab-df-convert');\n",
              "        buttonEl.style.display =\n",
              "          google.colab.kernel.accessAllowed ? 'block' : 'none';\n",
              "\n",
              "        async function convertToInteractive(key) {\n",
              "          const element = document.querySelector('#df-ac779fd5-4e0a-47d5-9bb2-c05bd3884131');\n",
              "          const dataTable =\n",
              "            await google.colab.kernel.invokeFunction('convertToInteractive',\n",
              "                                                     [key], {});\n",
              "          if (!dataTable) return;\n",
              "\n",
              "          const docLinkHtml = 'Like what you see? Visit the ' +\n",
              "            '<a target=\"_blank\" href=https://colab.research.google.com/notebooks/data_table.ipynb>data table notebook</a>'\n",
              "            + ' to learn more about interactive tables.';\n",
              "          element.innerHTML = '';\n",
              "          dataTable['output_type'] = 'display_data';\n",
              "          await google.colab.output.renderOutput(dataTable, element);\n",
              "          const docLink = document.createElement('div');\n",
              "          docLink.innerHTML = docLinkHtml;\n",
              "          element.appendChild(docLink);\n",
              "        }\n",
              "      </script>\n",
              "    </div>\n",
              "  </div>\n",
              "  "
            ]
          },
          "metadata": {},
          "execution_count": 55
        }
      ]
    },
    {
      "cell_type": "code",
      "execution_count": 64,
      "id": "8e013caf",
      "metadata": {
        "id": "8e013caf"
      },
      "outputs": [],
      "source": [
        "categorical = ['PUlocationID', 'DOlocationID']\n",
        "\n",
        "df[categorical] = df[categorical].astype(str)"
      ]
    },
    {
      "cell_type": "code",
      "source": [
        "train_dicts = df[categorical].to_dict(orient='records')\n",
        "\n",
        "dv = DictVectorizer()\n",
        "X_train = dv.fit_transform(train_dicts)\n",
        "\n",
        "print(X_train.shape[1])"
      ],
      "metadata": {
        "colab": {
          "base_uri": "https://localhost:8080/"
        },
        "id": "jn2Rm27nkRz2",
        "outputId": "1b80b265-01eb-441f-ffbd-cf0f56322c4f"
      },
      "id": "jn2Rm27nkRz2",
      "execution_count": 65,
      "outputs": [
        {
          "output_type": "stream",
          "name": "stdout",
          "text": [
            "525\n"
          ]
        }
      ]
    },
    {
      "cell_type": "code",
      "execution_count": 66,
      "id": "116ff0cc",
      "metadata": {
        "colab": {
          "base_uri": "https://localhost:8080/"
        },
        "id": "116ff0cc",
        "outputId": "f16704e8-d981-4094-8984-fe3667ec6f77"
      },
      "outputs": [
        {
          "output_type": "execute_result",
          "data": {
            "text/plain": [
              "10.528519107210744"
            ]
          },
          "metadata": {},
          "execution_count": 66
        }
      ],
      "source": [
        "target = 'duration'\n",
        "y_train = df[target].values\n",
        "\n",
        "lr = LinearRegression()\n",
        "lr.fit(X_train, y_train)\n",
        "\n",
        "y_pred = lr.predict(X_train)\n",
        "\n",
        "mean_squared_error(y_train, y_pred, squared=False)"
      ]
    },
    {
      "cell_type": "code",
      "execution_count": 67,
      "id": "b134c97b",
      "metadata": {
        "colab": {
          "base_uri": "https://localhost:8080/",
          "height": 372
        },
        "id": "b134c97b",
        "outputId": "3e247cbc-cf95-4884-8f69-1ddf0adf1977"
      },
      "outputs": [
        {
          "output_type": "stream",
          "name": "stderr",
          "text": [
            "/usr/local/lib/python3.7/dist-packages/seaborn/distributions.py:2619: FutureWarning: `distplot` is a deprecated function and will be removed in a future version. Please adapt your code to use either `displot` (a figure-level function with similar flexibility) or `histplot` (an axes-level function for histograms).\n",
            "  warnings.warn(msg, FutureWarning)\n",
            "/usr/local/lib/python3.7/dist-packages/seaborn/distributions.py:2619: FutureWarning: `distplot` is a deprecated function and will be removed in a future version. Please adapt your code to use either `displot` (a figure-level function with similar flexibility) or `histplot` (an axes-level function for histograms).\n",
            "  warnings.warn(msg, FutureWarning)\n"
          ]
        },
        {
          "output_type": "execute_result",
          "data": {
            "text/plain": [
              "<matplotlib.legend.Legend at 0x7f74e4f02b10>"
            ]
          },
          "metadata": {},
          "execution_count": 67
        },
        {
          "output_type": "display_data",
          "data": {
            "text/plain": [
              "<Figure size 432x288 with 1 Axes>"
            ],
            "image/png": "[encoded data removed]"
          },
          "metadata": {
            "needs_background": "light"
          }
        }
      ],
      "source": [
        "sns.distplot(y_pred, label='prediction')\n",
        "sns.distplot(y_train, label='actual')\n",
        "\n",
        "plt.legend()"
      ]
    },
    {
      "cell_type": "code",
      "execution_count": 93,
      "id": "8029eba0",
      "metadata": {
        "id": "8029eba0"
      },
      "outputs": [],
      "source": [
        "df_val = pd.read_parquet('fhv_tripdata_2021-02.parquet')"
      ]
    },
    {
      "cell_type": "code",
      "source": [
        "df_val['duration'] = df_val.dropOff_datetime - df_val.pickup_datetime\n",
        "df_val.duration = df_val.duration.apply(lambda td: td.total_seconds() / 60)"
      ],
      "metadata": {
        "id": "h6VOLf2ulXLF"
      },
      "id": "h6VOLf2ulXLF",
      "execution_count": 94,
      "outputs": []
    },
    {
      "cell_type": "code",
      "source": [
        "df_val = df_val[(df_val.duration >= 1) & (df_val.duration <= 60)]"
      ],
      "metadata": {
        "id": "b8jc82TuliIa"
      },
      "id": "b8jc82TuliIa",
      "execution_count": 95,
      "outputs": []
    },
    {
      "cell_type": "code",
      "source": [
        "df_val['DOlocationID'] = df_val['DOlocationID'].fillna(-1)\n",
        "df_val['PUlocationID'] = df_val['PUlocationID'].fillna(-1)"
      ],
      "metadata": {
        "id": "65fXXdAblrI8"
      },
      "id": "65fXXdAblrI8",
      "execution_count": 87,
      "outputs": []
    },
    {
      "cell_type": "code",
      "source": [
        "df_val[categorical] = df_val[categorical].astype(str)"
      ],
      "metadata": {
        "id": "BNHkBloGlyUb"
      },
      "id": "BNHkBloGlyUb",
      "execution_count": 96,
      "outputs": []
    },
    {
      "cell_type": "code",
      "source": [
        "val_dicts = df_val[categorical].to_dict(orient='records')\n",
        "\n",
        "X_val = dv.transform(val_dicts)"
      ],
      "metadata": {
        "id": "43Ifv2U6l5Bc"
      },
      "id": "43Ifv2U6l5Bc",
      "execution_count": 97,
      "outputs": []
    },
    {
      "cell_type": "code",
      "execution_count": 98,
      "id": "1e9fb68b",
      "metadata": {
        "id": "1e9fb68b"
      },
      "outputs": [],
      "source": [
        "y_val = df_val['duration'].values"
      ]
    },
    {
      "cell_type": "code",
      "execution_count": 99,
      "id": "a4999b94",
      "metadata": {
        "colab": {
          "base_uri": "https://localhost:8080/"
        },
        "id": "a4999b94",
        "outputId": "b5de0a34-010b-48e7-fd04-882ab88d6edb"
      },
      "outputs": [
        {
          "output_type": "execute_result",
          "data": {
            "text/plain": [
              "11.364434369457998"
            ]
          },
          "metadata": {},
          "execution_count": 99
        }
      ],
      "source": [
        "y_val_pred = lr.predict(X_val)\n",
        "\n",
        "mean_squared_error(y_val, y_val_pred, squared=False)"
      ]
    }
  ],
  "metadata": {
    "kernelspec": {
      "display_name": "Python 3 (ipykernel)",
      "language": "python",
      "name": "python3"
    },
    "language_info": {
      "codemirror_mode": {
        "name": "ipython",
        "version": 3
      },
      "file_extension": ".py",
      "mimetype": "text/x-python",
      "name": "python",
      "nbconvert_exporter": "python",
      "pygments_lexer": "ipython3",
      "version": "3.9.7"
    },
    "colab": {
      "name": "Homework1.ipynb",
      "provenance": []
    }
  },
  "nbformat": 4,
  "nbformat_minor": 5
}